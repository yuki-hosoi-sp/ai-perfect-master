{
  "nbformat": 4,
  "nbformat_minor": 0,
  "metadata": {
    "colab": {
      "provenance": [],
      "mount_file_id": "1NUhUjcO-m-6hNxDDeKbX-9BdhU1mPBsD",
      "authorship_tag": "ABX9TyM/E3zj5Q+MhN3HdqKUa+w8",
      "include_colab_link": true
    },
    "kernelspec": {
      "name": "python3",
      "display_name": "Python 3"
    },
    "language_info": {
      "name": "python"
    }
  },
  "cells": [
    {
      "cell_type": "markdown",
      "metadata": {
        "id": "view-in-github",
        "colab_type": "text"
      },
      "source": [
        "<a href=\"https://colab.research.google.com/github/yuki-hosoi-sp/ai-perfect-master/blob/main/simple_deep_learning.ipynb\" target=\"_parent\"><img src=\"https://colab.research.google.com/assets/colab-badge.svg\" alt=\"Open In Colab\"/></a>"
      ]
    },
    {
      "cell_type": "markdown",
      "source": [
        "# シンプルなディープラーニング"
      ],
      "metadata": {
        "id": "uwA_UklQltHV"
      }
    },
    {
      "cell_type": "markdown",
      "source": [
        "## データの読み込み"
      ],
      "metadata": {
        "id": "UPTVrT99ly9M"
      }
    },
    {
      "cell_type": "code",
      "execution_count": 1,
      "metadata": {
        "colab": {
          "base_uri": "https://localhost:8080/"
        },
        "id": "VLtwyEL9jns5",
        "outputId": "d14bc9df-9c64-49e2-d7d6-5808dd7335d0"
      },
      "outputs": [
        {
          "output_type": "stream",
          "name": "stdout",
          "text": [
            "[[5.1 3.5 1.4 0.2]\n",
            " [4.9 3.  1.4 0.2]\n",
            " [4.7 3.2 1.3 0.2]\n",
            " [4.6 3.1 1.5 0.2]\n",
            " [5.  3.6 1.4 0.2]\n",
            " [5.4 3.9 1.7 0.4]\n",
            " [4.6 3.4 1.4 0.3]\n",
            " [5.  3.4 1.5 0.2]\n",
            " [4.4 2.9 1.4 0.2]\n",
            " [4.9 3.1 1.5 0.1]]\n",
            "[0 0 0 0 0 0 0 0 0 0]\n",
            "(150, 4)\n"
          ]
        }
      ],
      "source": [
        "import numpy as np\n",
        "from sklearn import datasets\n",
        "\n",
        "iris = datasets.load_iris()\n",
        "print(iris.data[:10])\n",
        "print(iris.target[:10])\n",
        "print(iris.data.shape)"
      ]
    },
    {
      "cell_type": "markdown",
      "source": [
        "各行→あやめの花  \n",
        "[花弁の幅、花弁の長さ、花びらの幅、花びらの長さ]\n",
        "ラベル： 0→setosa 1→versicolor 2→versinica"
      ],
      "metadata": {
        "id": "NHvvNsXSmb_F"
      }
    },
    {
      "cell_type": "markdown",
      "source": [
        "## データの前処理"
      ],
      "metadata": {
        "id": "uM-Qg-GonMXG"
      }
    },
    {
      "cell_type": "code",
      "source": [
        "from sklearn import preprocessing\n",
        "from keras.utils import np_utils\n",
        "\n",
        "scaler = preprocessing.StandardScaler() # 標準化\n",
        "scaler.fit(iris.data)\n",
        "x = scaler.transform(iris.data)\n",
        "print(x[:10])\n",
        "\n",
        "t = np_utils.to_categorical(iris.target) # one-hot表現に変換\n",
        "print(t[:10])"
      ],
      "metadata": {
        "colab": {
          "base_uri": "https://localhost:8080/"
        },
        "id": "IU4D_WPymIGl",
        "outputId": "fafddf7c-975d-4308-a4a6-547b0f83f9c8"
      },
      "execution_count": 2,
      "outputs": [
        {
          "output_type": "stream",
          "name": "stdout",
          "text": [
            "[[-0.90068117  1.01900435 -1.34022653 -1.3154443 ]\n",
            " [-1.14301691 -0.13197948 -1.34022653 -1.3154443 ]\n",
            " [-1.38535265  0.32841405 -1.39706395 -1.3154443 ]\n",
            " [-1.50652052  0.09821729 -1.2833891  -1.3154443 ]\n",
            " [-1.02184904  1.24920112 -1.34022653 -1.3154443 ]\n",
            " [-0.53717756  1.93979142 -1.16971425 -1.05217993]\n",
            " [-1.50652052  0.78880759 -1.34022653 -1.18381211]\n",
            " [-1.02184904  0.78880759 -1.2833891  -1.3154443 ]\n",
            " [-1.74885626 -0.36217625 -1.34022653 -1.3154443 ]\n",
            " [-1.14301691  0.09821729 -1.2833891  -1.44707648]]\n",
            "[[1. 0. 0.]\n",
            " [1. 0. 0.]\n",
            " [1. 0. 0.]\n",
            " [1. 0. 0.]\n",
            " [1. 0. 0.]\n",
            " [1. 0. 0.]\n",
            " [1. 0. 0.]\n",
            " [1. 0. 0.]\n",
            " [1. 0. 0.]\n",
            " [1. 0. 0.]]\n"
          ]
        }
      ]
    },
    {
      "cell_type": "markdown",
      "source": [
        "## 訓練データとテストデータに分割"
      ],
      "metadata": {
        "id": "K3k7vEsYoGBQ"
      }
    },
    {
      "cell_type": "code",
      "source": [
        "from sklearn.model_selection import train_test_split\n",
        "\n",
        "x_train, x_test, t_train, t_test = train_test_split(x, t, train_size=0.75)"
      ],
      "metadata": {
        "id": "HBzc8aF9n3EE"
      },
      "execution_count": 3,
      "outputs": []
    },
    {
      "cell_type": "code",
      "source": [
        "print(x_train.shape)\n",
        "print(x_test.shape)"
      ],
      "metadata": {
        "colab": {
          "base_uri": "https://localhost:8080/"
        },
        "id": "taUcvoARolfC",
        "outputId": "928fd5e2-d0c6-4e31-f7d8-e3eb22abb093"
      },
      "execution_count": 21,
      "outputs": [
        {
          "output_type": "stream",
          "name": "stdout",
          "text": [
            "(112, 4)\n",
            "(38, 4)\n"
          ]
        }
      ]
    },
    {
      "cell_type": "markdown",
      "source": [
        "## モデルの構築"
      ],
      "metadata": {
        "id": "27ztTDu9o3QA"
      }
    },
    {
      "cell_type": "code",
      "source": [
        "from keras.models import Sequential\n",
        "from keras.layers import Dense, Activation\n",
        "\n",
        "model = Sequential()\n",
        "model.add(Dense(32, input_dim=4)) # 全結合層： Dense(中間層の数, 入力数（今回は特徴量が4つなので4としている）)\n",
        "model.add(Activation('relu'))\n",
        "model.add(Dense(32))\n",
        "model.add(Activation('relu'))\n",
        "model.add(Dense(3)) # 出力数は予測するアヤメの種類の3\n",
        "model.add(Activation('softmax'))\n",
        "model.compile(optimizer='sgd', loss='categorical_crossentropy', metrics=['accuracy'])\n",
        "\n",
        "print(model.summary()) # コンパイルされたモデルの概要を出力"
      ],
      "metadata": {
        "colab": {
          "base_uri": "https://localhost:8080/"
        },
        "id": "i20Dr1D-ooi9",
        "outputId": "120c212f-8d22-4f27-aa20-0930cc01212c"
      },
      "execution_count": 8,
      "outputs": [
        {
          "output_type": "stream",
          "name": "stdout",
          "text": [
            "Model: \"sequential_1\"\n",
            "_________________________________________________________________\n",
            " Layer (type)                Output Shape              Param #   \n",
            "=================================================================\n",
            " dense_3 (Dense)             (None, 32)                160       \n",
            "                                                                 \n",
            " activation_3 (Activation)   (None, 32)                0         \n",
            "                                                                 \n",
            " dense_4 (Dense)             (None, 32)                1056      \n",
            "                                                                 \n",
            " activation_4 (Activation)   (None, 32)                0         \n",
            "                                                                 \n",
            " dense_5 (Dense)             (None, 3)                 99        \n",
            "                                                                 \n",
            " activation_5 (Activation)   (None, 3)                 0         \n",
            "                                                                 \n",
            "=================================================================\n",
            "Total params: 1,315\n",
            "Trainable params: 1,315\n",
            "Non-trainable params: 0\n",
            "_________________________________________________________________\n",
            "None\n"
          ]
        }
      ]
    },
    {
      "cell_type": "markdown",
      "source": [
        "Param = 32(neurons) * 4(features) + 32(biases)"
      ],
      "metadata": {
        "id": "zz_uIIiNqjen"
      }
    },
    {
      "cell_type": "markdown",
      "source": [
        "## 学習"
      ],
      "metadata": {
        "id": "kN7m0b0Oq4Yy"
      }
    },
    {
      "cell_type": "code",
      "source": [
        "history = model.fit(x_train, t_train, epochs=30, batch_size=8)"
      ],
      "metadata": {
        "colab": {
          "base_uri": "https://localhost:8080/"
        },
        "id": "JN6c8dkZqEBy",
        "outputId": "b69fbf1b-2b5e-4451-b35c-31b0b57fccd6"
      },
      "execution_count": 10,
      "outputs": [
        {
          "output_type": "stream",
          "name": "stdout",
          "text": [
            "Epoch 1/30\n",
            "14/14 [==============================] - 1s 2ms/step - loss: 1.0906 - accuracy: 0.4107\n",
            "Epoch 2/30\n",
            "14/14 [==============================] - 0s 2ms/step - loss: 0.9947 - accuracy: 0.5089\n",
            "Epoch 3/30\n",
            "14/14 [==============================] - 0s 2ms/step - loss: 0.9181 - accuracy: 0.6429\n",
            "Epoch 4/30\n",
            "14/14 [==============================] - 0s 2ms/step - loss: 0.8541 - accuracy: 0.8125\n",
            "Epoch 5/30\n",
            "14/14 [==============================] - 0s 2ms/step - loss: 0.7987 - accuracy: 0.8304\n",
            "Epoch 6/30\n",
            "14/14 [==============================] - 0s 2ms/step - loss: 0.7486 - accuracy: 0.8214\n",
            "Epoch 7/30\n",
            "14/14 [==============================] - 0s 2ms/step - loss: 0.7054 - accuracy: 0.8304\n",
            "Epoch 8/30\n",
            "14/14 [==============================] - 0s 2ms/step - loss: 0.6669 - accuracy: 0.8393\n",
            "Epoch 9/30\n",
            "14/14 [==============================] - 0s 2ms/step - loss: 0.6326 - accuracy: 0.8393\n",
            "Epoch 10/30\n",
            "14/14 [==============================] - 0s 2ms/step - loss: 0.6008 - accuracy: 0.8482\n",
            "Epoch 11/30\n",
            "14/14 [==============================] - 0s 2ms/step - loss: 0.5723 - accuracy: 0.8482\n",
            "Epoch 12/30\n",
            "14/14 [==============================] - 0s 2ms/step - loss: 0.5462 - accuracy: 0.8482\n",
            "Epoch 13/30\n",
            "14/14 [==============================] - 0s 2ms/step - loss: 0.5225 - accuracy: 0.8482\n",
            "Epoch 14/30\n",
            "14/14 [==============================] - 0s 2ms/step - loss: 0.5018 - accuracy: 0.8304\n",
            "Epoch 15/30\n",
            "14/14 [==============================] - 0s 2ms/step - loss: 0.4823 - accuracy: 0.8304\n",
            "Epoch 16/30\n",
            "14/14 [==============================] - 0s 2ms/step - loss: 0.4649 - accuracy: 0.8393\n",
            "Epoch 17/30\n",
            "14/14 [==============================] - 0s 2ms/step - loss: 0.4491 - accuracy: 0.8393\n",
            "Epoch 18/30\n",
            "14/14 [==============================] - 0s 2ms/step - loss: 0.4343 - accuracy: 0.8393\n",
            "Epoch 19/30\n",
            "14/14 [==============================] - 0s 2ms/step - loss: 0.4208 - accuracy: 0.8393\n",
            "Epoch 20/30\n",
            "14/14 [==============================] - 0s 2ms/step - loss: 0.4086 - accuracy: 0.8482\n",
            "Epoch 21/30\n",
            "14/14 [==============================] - 0s 2ms/step - loss: 0.3978 - accuracy: 0.8482\n",
            "Epoch 22/30\n",
            "14/14 [==============================] - 0s 2ms/step - loss: 0.3877 - accuracy: 0.8482\n",
            "Epoch 23/30\n",
            "14/14 [==============================] - 0s 2ms/step - loss: 0.3785 - accuracy: 0.8393\n",
            "Epoch 24/30\n",
            "14/14 [==============================] - 0s 2ms/step - loss: 0.3700 - accuracy: 0.8482\n",
            "Epoch 25/30\n",
            "14/14 [==============================] - 0s 2ms/step - loss: 0.3622 - accuracy: 0.8571\n",
            "Epoch 26/30\n",
            "14/14 [==============================] - 0s 2ms/step - loss: 0.3549 - accuracy: 0.8482\n",
            "Epoch 27/30\n",
            "14/14 [==============================] - 0s 2ms/step - loss: 0.3472 - accuracy: 0.8571\n",
            "Epoch 28/30\n",
            "14/14 [==============================] - 0s 2ms/step - loss: 0.3406 - accuracy: 0.8571\n",
            "Epoch 29/30\n",
            "14/14 [==============================] - 0s 2ms/step - loss: 0.3337 - accuracy: 0.8571\n",
            "Epoch 30/30\n",
            "14/14 [==============================] - 0s 2ms/step - loss: 0.3282 - accuracy: 0.8661\n"
          ]
        }
      ]
    },
    {
      "cell_type": "markdown",
      "source": [
        "## 学習の推移"
      ],
      "metadata": {
        "id": "Ki-YXBW_rbN5"
      }
    },
    {
      "cell_type": "code",
      "source": [
        "import matplotlib.pyplot as plt\n",
        "\n",
        "hist_loss = history.history['loss']\n",
        "hist_acc = history.history['accuracy']\n",
        "\n",
        "plt.plot(np.arange(len(hist_loss)), hist_loss, label='loss')\n",
        "plt.plot(np.arange(len(hist_acc)), hist_acc, label='acc')\n",
        "plt.legend()\n",
        "plt.show()"
      ],
      "metadata": {
        "colab": {
          "base_uri": "https://localhost:8080/",
          "height": 265
        },
        "id": "xUt3iBR1rGdm",
        "outputId": "8a3715f3-6507-4240-f120-87af7ea3bf96"
      },
      "execution_count": 17,
      "outputs": [
        {
          "output_type": "display_data",
          "data": {
            "text/plain": [
              "<Figure size 432x288 with 1 Axes>"
            ],
            "image/png": "[encoded data removed]"
          },
          "metadata": {
            "needs_background": "light"
          }
        }
      ]
    },
    {
      "cell_type": "code",
      "source": [
        "print(type(history))"
      ],
      "metadata": {
        "colab": {
          "base_uri": "https://localhost:8080/"
        },
        "id": "2myJyWx6r0CP",
        "outputId": "48e5840f-626f-408a-81c2-dfb899ed4dfe"
      },
      "execution_count": 15,
      "outputs": [
        {
          "output_type": "stream",
          "name": "stdout",
          "text": [
            "<class 'keras.callbacks.History'>\n"
          ]
        }
      ]
    },
    {
      "cell_type": "markdown",
      "source": [
        "## 評価"
      ],
      "metadata": {
        "id": "U_cnC-93ssPj"
      }
    },
    {
      "cell_type": "code",
      "source": [
        "loss, accuracy = model.evaluate(x_test, t_test)\n",
        "print(loss, accuracy)"
      ],
      "metadata": {
        "colab": {
          "base_uri": "https://localhost:8080/"
        },
        "id": "H-93sV5Ar4UN",
        "outputId": "69f46f8f-c8ab-4e33-fd88-afa70383661b"
      },
      "execution_count": 19,
      "outputs": [
        {
          "output_type": "stream",
          "name": "stdout",
          "text": [
            "2/2 [==============================] - 0s 6ms/step - loss: 0.3532 - accuracy: 0.8421\n",
            "0.3531568646430969 0.8421052694320679\n"
          ]
        }
      ]
    },
    {
      "cell_type": "markdown",
      "source": [
        "## 予測"
      ],
      "metadata": {
        "id": "jxDBuLH7tGDM"
      }
    },
    {
      "cell_type": "code",
      "source": [
        "model.predict(x_test)"
      ],
      "metadata": {
        "colab": {
          "base_uri": "https://localhost:8080/"
        },
        "id": "Pgjs18D0sz2a",
        "outputId": "b302426f-dbd0-4962-c4b8-3b9d2a8a1ca5"
      },
      "execution_count": 25,
      "outputs": [
        {
          "output_type": "stream",
          "name": "stdout",
          "text": [
            "2/2 [==============================] - 0s 4ms/step\n"
          ]
        },
        {
          "output_type": "execute_result",
          "data": {
            "text/plain": [
              "array([[0.07498054, 0.38763335, 0.5373861 ],\n",
              "       [0.01887939, 0.11944041, 0.86168015],\n",
              "       [0.01225667, 0.0731714 , 0.91457194],\n",
              "       [0.14164098, 0.5048618 , 0.35349727],\n",
              "       [0.08432894, 0.521252  , 0.39441907],\n",
              "       [0.9617823 , 0.03046834, 0.00774943],\n",
              "       [0.02034128, 0.12565765, 0.85400105],\n",
              "       [0.9786027 , 0.01537336, 0.00602389],\n",
              "       [0.02815339, 0.18460926, 0.7872373 ],\n",
              "       [0.02110702, 0.15549468, 0.8233984 ],\n",
              "       [0.03044494, 0.20195478, 0.76760024],\n",
              "       [0.08675837, 0.62754565, 0.28569594],\n",
              "       [0.9871285 , 0.00616132, 0.00671022],\n",
              "       [0.01934585, 0.10964186, 0.8710123 ],\n",
              "       [0.07854395, 0.45036167, 0.47109425],\n",
              "       [0.97861075, 0.01366475, 0.00772441],\n",
              "       [0.06245793, 0.7792658 , 0.15827632],\n",
              "       [0.06194879, 0.7875936 , 0.15045759],\n",
              "       [0.9523727 , 0.02992209, 0.01770524],\n",
              "       [0.14217605, 0.5673039 , 0.29052007],\n",
              "       [0.02720232, 0.1529507 , 0.819847  ],\n",
              "       [0.9621252 , 0.02506652, 0.0128083 ],\n",
              "       [0.03531783, 0.14557263, 0.81910956],\n",
              "       [0.05340985, 0.4131105 , 0.53347963],\n",
              "       [0.97922903, 0.01128617, 0.00948492],\n",
              "       [0.94732827, 0.04484825, 0.00782348],\n",
              "       [0.97249347, 0.01648701, 0.01101953],\n",
              "       [0.06111134, 0.3110355 , 0.62785304],\n",
              "       [0.02494419, 0.9062298 , 0.06882602],\n",
              "       [0.072965  , 0.73702705, 0.1900079 ],\n",
              "       [0.9724386 , 0.02147951, 0.00608183],\n",
              "       [0.96080303, 0.0325534 , 0.00664363],\n",
              "       [0.00885908, 0.06236388, 0.928777  ],\n",
              "       [0.07007618, 0.7691715 , 0.16075231],\n",
              "       [0.03828767, 0.21630266, 0.74540967],\n",
              "       [0.9872449 , 0.00809154, 0.00466354],\n",
              "       [0.0757627 , 0.32240832, 0.601829  ],\n",
              "       [0.19176471, 0.79333526, 0.01490002]], dtype=float32)"
            ]
          },
          "metadata": {},
          "execution_count": 25
        }
      ]
    },
    {
      "cell_type": "code",
      "source": [
        "t_test.shape"
      ],
      "metadata": {
        "colab": {
          "base_uri": "https://localhost:8080/"
        },
        "id": "Y3er18Q3tKaR",
        "outputId": "59dd24c7-3ce0-4c0c-d652-2399047dbb05"
      },
      "execution_count": 24,
      "outputs": [
        {
          "output_type": "execute_result",
          "data": {
            "text/plain": [
              "(38, 3)"
            ]
          },
          "metadata": {},
          "execution_count": 24
        }
      ]
    },
    {
      "cell_type": "markdown",
      "source": [
        "## 学習済みモデルの保存"
      ],
      "metadata": {
        "id": "-GzbgZs5topx"
      }
    },
    {
      "cell_type": "code",
      "source": [
        "from keras.models import load_model\n",
        "\n",
        "model.save('model.h5') # 保存\n",
        "load_model('model.h5') # 読み込み"
      ],
      "metadata": {
        "colab": {
          "base_uri": "https://localhost:8080/"
        },
        "id": "Na5xrdi4tPbm",
        "outputId": "3e6df6ce-f441-4ac0-bba5-1bb40bbcfbca"
      },
      "execution_count": 26,
      "outputs": [
        {
          "output_type": "execute_result",
          "data": {
            "text/plain": [
              "<keras.engine.sequential.Sequential at 0x7fcf567cde20>"
            ]
          },
          "metadata": {},
          "execution_count": 26
        }
      ]
    },
    {
      "cell_type": "code",
      "source": [],
      "metadata": {
        "id": "iyclLYtAt098"
      },
      "execution_count": null,
      "outputs": []
    }
  ]
}